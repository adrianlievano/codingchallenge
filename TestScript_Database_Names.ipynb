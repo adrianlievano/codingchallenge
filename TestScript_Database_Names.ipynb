{
 "cells": [
  {
   "cell_type": "code",
   "execution_count": 1,
   "metadata": {},
   "outputs": [
    {
     "name": "stdout",
     "output_type": "stream",
     "text": [
      "29\n"
     ]
    },
    {
     "data": {
      "text/plain": [
       "['bini',\n",
       " 'c',\n",
       " 'de',\n",
       " 'diy',\n",
       " 'doxes',\n",
       " 'fisuk',\n",
       " 'hu',\n",
       " 'kax',\n",
       " 'kequb',\n",
       " 'kirul',\n",
       " 'lofay',\n",
       " 'mibuko',\n",
       " 'muyafa',\n",
       " 'nexene',\n",
       " 'p',\n",
       " 'piga',\n",
       " 'pij',\n",
       " 'pu',\n",
       " 'q',\n",
       " 'qayu',\n",
       " 'r',\n",
       " 'retu',\n",
       " 'rivuti',\n",
       " 'wa',\n",
       " 'xen',\n",
       " 'yazo',\n",
       " 'zaboci',\n",
       " 'zi',\n",
       " 'zis']"
      ]
     },
     "execution_count": 1,
     "metadata": {},
     "output_type": "execute_result"
    }
   ],
   "source": [
    "import random\n",
    "import string\n",
    "import sys\n",
    "\n",
    "\n",
    "VOWELS = \"aeiou\"\n",
    "CONSONANTS = \"\".join(set(string.ascii_lowercase) - set(VOWELS))\n",
    "\n",
    "def generate_word(length):\n",
    "    word = \"\"\n",
    "    for i in range(length):\n",
    "        if i % 2 == 0:\n",
    "            word += random.choice(CONSONANTS)\n",
    "        else:\n",
    "            word += random.choice(VOWELS)\n",
    "    return word\n",
    "\n",
    "if __name__ == \"__main__\":\n",
    "    try:\n",
    "        count = int(sys.argv[1])\n",
    "    except:\n",
    "        count = 5\n",
    "\n",
    "    try:\n",
    "        length = int(sys.argv[2])\n",
    "    except:\n",
    "        length = 6\n",
    "\n",
    "    for i in range(count):\n",
    "        generate_word(length)\n",
    "\n",
    "database=[]\n",
    "\n",
    "for i in range(5):\n",
    "    #database.append(generate_word(30))\n",
    "    #database.append(generate_word(30))\n",
    "    #database.append(generate_word(6))\n",
    "    #database.append(generate_word(6))\n",
    "    #database.append(generate_word(6))\n",
    "    database.append(generate_word(6))\n",
    "    database.append(generate_word(5))\n",
    "    database.append(generate_word(4))\n",
    "    database.append(generate_word(3))\n",
    "    database.append(generate_word(2))\n",
    "    database.append(generate_word(1))\n",
    "database = sorted(list(set(database)))\n",
    "\n",
    "#Try me\n",
    "#database = sorted(list(set(['%%%%%%%','%%%%%%%%%%%','vtavatv','yhyrhrt','tujtujtjy','etyjetyjetyj','etyjetyjetyj','%%%','myumyum','$$$$$$$','$$$$$$$$$','$$$$$$$$$$$$','$$$$$$$$$2','AS','ASDFASDF','TGRTRTH','RTHRTHRTHRT','ASDGSDHSG','yjujtyjtyj','ytytydnyt','dsvfasdfva','asvasdvasdvy','rgrgerg','ergergerg','vasdvasdvasdvdvadsvasdvasdvasdsdvasd','ynysrnsnfgnsfgnsfgn','$$$$','ADGAFBYY','BYSBSB','asdasda','asdvasdvtthddbtdtbdbdtbdtb','ASD','ASD','GOHASD','GOHAN','ASDD,','GTGTG','GTGsdsd','lo','adrian','guano','jimcarrey','grunt','MasterChief','AAAAAAAA','AAA','AAB','AABC','AAACC','AAACD','AAACVX','$','a','b','c','d',\"abracadara\", \"al\", \"alice\",\"#312Yomama\",\"#412Yomama\",\"#512Yomama\",\"#612Yomama\",\"#712Yomama\",\"#812Yomama\", \"alicia\", \"allen\", \"alter\",'913KILLA','123Banyo','xx#Chaosxx#','23Yawwhey' \"altercation\",\"amap\",\"ammap\",\"azap\",\"azzopa\",\"AcePilota19993\",\"bob\", \"bzaop\", \"eve\", \"evening\", \"event\", \"eventually\", \"mallory\"])))\n",
    "print(len(database))\n",
    "database"
   ]
  },
  {
   "cell_type": "code",
   "execution_count": null,
   "metadata": {},
   "outputs": [],
   "source": []
  }
 ],
 "metadata": {
  "kernelspec": {
   "display_name": "Python 3",
   "language": "python",
   "name": "python3"
  },
  "language_info": {
   "codemirror_mode": {
    "name": "ipython",
    "version": 3
   },
   "file_extension": ".py",
   "mimetype": "text/x-python",
   "name": "python",
   "nbconvert_exporter": "python",
   "pygments_lexer": "ipython3",
   "version": "3.6.3"
  }
 },
 "nbformat": 4,
 "nbformat_minor": 2
}
